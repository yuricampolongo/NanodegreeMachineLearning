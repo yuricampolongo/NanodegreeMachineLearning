{
 "cells": [
  {
   "cell_type": "markdown",
   "metadata": {},
   "source": [
    "## Nanodegree Engenheiro de Machine Learning\n",
    "\n",
    "#### Projeto Final\n",
    "\n",
    "Yuri Martins Campolongo"
   ]
  },
  {
   "cell_type": "markdown",
   "metadata": {},
   "source": [
    "## 1. Processamento de dados"
   ]
  },
  {
   "cell_type": "markdown",
   "metadata": {},
   "source": [
    "### 1.1 Carregamento do dataset"
   ]
  },
  {
   "cell_type": "code",
   "execution_count": 1,
   "metadata": {
    "scrolled": true
   },
   "outputs": [
    {
     "name": "stdout",
     "output_type": "stream",
     "text": [
      "O conjunto de dados de entrada tem 172 registros\n"
     ]
    }
   ],
   "source": [
    "# -*- coding: utf-8 -*- \n",
    "\n",
    "import pandas as pd\n",
    "\n",
    "# Formatação mais bonita para os notebooks\n",
    "%matplotlib inline\n",
    "\n",
    "# Executar o conjunto de dados\n",
    "data = pd.read_csv('dataset.csv',sep=';',encoding = 'utf8')\n",
    "\n",
    "print \"O conjunto de dados de entrada tem {} registros\".format(*data.shape)"
   ]
  },
  {
   "cell_type": "markdown",
   "metadata": {},
   "source": [
    "### 1.2 Pré-processamento de dados"
   ]
  },
  {
   "cell_type": "code",
   "execution_count": 2,
   "metadata": {
    "scrolled": false
   },
   "outputs": [],
   "source": [
    "import re\n",
    "import time\n",
    "millisInitial = int(round(time.time() * 1000))\n",
    "for index, row in data.iterrows():\n",
    "    #lowercase\n",
    "    if type(row['Texto']) is str:\n",
    "        data.iloc[index, data.columns.get_loc('Texto')] = row['Texto'].lower()\n",
    "    correctString = row[\"Texto\"]\n",
    "    #Remove pontuação\n",
    "    correctString = re.sub(r'[^a-zA-Z0-9áàâãéèêíïóôõöúçñÁÀÂÃÉÈÍÏÓÔÕÖÚÇÑ\\s]', '', correctString)\n",
    "    #Atualiza com a string tratada\n",
    "    data.iloc[index, data.columns.get_loc('Texto')] = correctString\n",
    "\n",
    "millisFinal = int(round(time.time() * 1000))\n",
    "\n",
    "X = data['Texto']\n",
    "y = data['Categoria']"
   ]
  },
  {
   "cell_type": "markdown",
   "metadata": {},
   "source": [
    "### 1.3 Aplicando Oversampling"
   ]
  },
  {
   "cell_type": "code",
   "execution_count": 3,
   "metadata": {},
   "outputs": [
    {
     "name": "stdout",
     "output_type": "stream",
     "text": [
      "O conjunto de dados de entrada foi de 172 registros para 253\n"
     ]
    }
   ],
   "source": [
    "from imblearn.over_sampling import SMOTE\n",
    "from sklearn.feature_extraction.text import TfidfVectorizer\n",
    "\n",
    "vectorizer = TfidfVectorizer()\n",
    "vectorizer.fit_transform(X)\n",
    "\n",
    "vector = vectorizer.transform(X)\n",
    "\n",
    "X_resampled, y_resampled = SMOTE().fit_sample(vector, y)\n",
    "\n",
    "print \"O conjunto de dados de entrada foi de {} registros para {}\".format(len(X), len(X_resampled.toarray()))"
   ]
  },
  {
   "cell_type": "markdown",
   "metadata": {},
   "source": [
    "## 2. Treinando um classificador"
   ]
  },
  {
   "cell_type": "markdown",
   "metadata": {},
   "source": [
    "### 2.1 Classificador Bayesiano Multinomial"
   ]
  },
  {
   "cell_type": "code",
   "execution_count": 4,
   "metadata": {},
   "outputs": [
    {
     "data": {
      "text/plain": [
       "MultinomialNB(alpha=0.1, class_prior=None, fit_prior=True)"
      ]
     },
     "execution_count": 4,
     "metadata": {},
     "output_type": "execute_result"
    }
   ],
   "source": [
    "from sklearn.model_selection import train_test_split\n",
    "from sklearn.naive_bayes import MultinomialNB\n",
    "\n",
    "X_train, X_test, y_train, y_test = train_test_split(X_resampled, y_resampled, test_size=0.25, random_state=42)\n",
    "\n",
    "gnb = MultinomialNB(alpha=0.1)\n",
    "gnb.fit(X_train, y_train)"
   ]
  },
  {
   "cell_type": "markdown",
   "metadata": {},
   "source": [
    "### 2.2 Realizando testes e calculando métricas de desempenho"
   ]
  },
  {
   "cell_type": "code",
   "execution_count": 5,
   "metadata": {},
   "outputs": [
    {
     "name": "stdout",
     "output_type": "stream",
     "text": [
      "O f1_score foi de 0.9203630594\n"
     ]
    }
   ],
   "source": [
    "y_pred = gnb.predict(X_test)\n",
    "\n",
    "from sklearn.metrics import f1_score\n",
    "\n",
    "f1_score_score = f1_score(y_test, y_pred, average='macro')\n",
    "\n",
    "print \"O f1_score foi de {}\".format(f1_score_score)"
   ]
  },
  {
   "cell_type": "code",
   "execution_count": 6,
   "metadata": {},
   "outputs": [],
   "source": [
    "#Função para imprimir a matriz de confusão de forma gráfica\n",
    "import matplotlib.pyplot as plt\n",
    "import numpy as np\n",
    "def plot_confusion_matrix(cm, classes,\n",
    "                          normalize=False,\n",
    "                          title='Matriz de confusão',\n",
    "                          cmap=plt.cm.Blues):\n",
    "    if normalize:\n",
    "        cm = cm.astype('float') / cm.sum(axis=1)[:, np.newaxis]\n",
    "\n",
    "    plt.imshow(cm, interpolation='nearest', cmap=cmap)\n",
    "    plt.title(title)\n",
    "    plt.colorbar()\n",
    "    tick_marks = np.arange(len(classes))\n",
    "    plt.xticks(tick_marks, classes, rotation=45)\n",
    "    plt.yticks(tick_marks, classes)\n",
    "\n",
    "    fmt = '.2f' if normalize else 'd'\n",
    "    thresh = cm.max() / 2.\n",
    "    for i, j in itertools.product(range(cm.shape[0]), range(cm.shape[1])):\n",
    "        plt.text(j, i, format(cm[i, j], fmt),\n",
    "                 horizontalalignment=\"center\",\n",
    "                 color=\"white\" if cm[i, j] > thresh else \"black\")\n",
    "\n",
    "    plt.ylabel('True label')\n",
    "    plt.xlabel('Predicted label')\n",
    "    \n",
    "    fig_size = plt.rcParams[\"figure.figsize\"]\n",
    "\n",
    "    fig_size[0] = 12\n",
    "    fig_size[1] = 9\n",
    "    plt.rcParams[\"figure.figsize\"] = fig_size\n",
    "    \n",
    "# Fonte: http://scikit-learn.org/stable/auto_examples/model_selection/plot_confusion_matrix.html"
   ]
  },
  {
   "cell_type": "code",
   "execution_count": 7,
   "metadata": {},
   "outputs": [
    {
     "data": {
      "image/png": "[encoded data removed]",
      "text/plain": [
       "<matplotlib.figure.Figure at 0x5e82b38>"
      ]
     },
     "metadata": {},
     "output_type": "display_data"
    }
   ],
   "source": [
    "# Mostra a matriz de confusão \n",
    "import itertools\n",
    "from sklearn.metrics import confusion_matrix\n",
    "from collections import OrderedDict\n",
    "\n",
    "target_names = list(OrderedDict.fromkeys(y_test))\n",
    "\n",
    "cnf_matrix = confusion_matrix(y_test, y_pred)\n",
    "\n",
    "plt.figure()\n",
    "plot_confusion_matrix(cnf_matrix, classes=target_names, normalize=True,\n",
    "                      title='Matriz de confusao')\n",
    "\n",
    "plt.show()"
   ]
  },
  {
   "cell_type": "markdown",
   "metadata": {
    "collapsed": true
   },
   "source": [
    "## 3. Benchmark"
   ]
  },
  {
   "cell_type": "markdown",
   "metadata": {},
   "source": [
    "### 3.1 Benchmark em um algoritmo de regressão logística"
   ]
  },
  {
   "cell_type": "code",
   "execution_count": 8,
   "metadata": {},
   "outputs": [
    {
     "name": "stdout",
     "output_type": "stream",
     "text": [
      "O f1_score foi de 0.899261344716\n"
     ]
    }
   ],
   "source": [
    "from sklearn import linear_model\n",
    "\n",
    "logreg = linear_model.LogisticRegression()\n",
    "\n",
    "#Treinando classificador de regressão logística\n",
    "logreg.fit(X_train, y_train)\n",
    "\n",
    "#Realizando testes\n",
    "y_pred = logreg.predict(X_test)\n",
    "\n",
    "#Calculando F1 Score\n",
    "f1_score_score = f1_score(y_test, y_pred, average='macro')\n",
    "print \"O f1_score foi de {}\".format(f1_score_score)"
   ]
  },
  {
   "cell_type": "markdown",
   "metadata": {},
   "source": [
    "## 3. Testes"
   ]
  },
  {
   "cell_type": "markdown",
   "metadata": {},
   "source": [
    "### 3.1 Execução de entradas manuais"
   ]
  },
  {
   "cell_type": "code",
   "execution_count": 21,
   "metadata": {},
   "outputs": [
    {
     "data": {
      "image/png": "[encoded data removed]",
      "text/plain": [
       "<matplotlib.figure.Figure at 0x13e34780>"
      ]
     },
     "metadata": {},
     "output_type": "display_data"
    }
   ],
   "source": [
    "d = {'Texto': [\"Quero entender mais sobre os sistemas da voxage\", \n",
    "               \"Qual o custo dos sistemas da voxage\",\n",
    "               \"Existe alguma forma para realizar discagens automáticas\",\n",
    "               \"Queria fornecer um atendimento em aplicativo de celular\",\n",
    "               \"Vocês tem alguma forma de testes\",\n",
    "               \"Trabalho em uma empresa e precisariamos de um aplicativo de celular para nossos clientes\",\n",
    "               \"Estamos com muitos problemas de fraudes e precisamos captar informações sigilosas para corrigir esse problema\",\n",
    "               \"Não estou satisfeito com a solução que tenho hoje no call center, gostaria de avaliar novas opções\",\n",
    "              ], \n",
    "     'Categoria': [\"PRODUTO\", \n",
    "                   \"COST\",\n",
    "                   \"DISCADOR\",\n",
    "                   \"ME_ATENDE\",\n",
    "                   \"TRIAL\",\n",
    "                   \"ME_ATENDE\",\n",
    "                   \"VOS_PCI\",\n",
    "                   \"PRODUTO\"\n",
    "                  ]}\n",
    "df = pd.DataFrame(data=d)\n",
    "\n",
    "XTest = df['Texto']\n",
    "yTest = df['Categoria']\n",
    "\n",
    "vector3 = vectorizer.transform(XTest)\n",
    "\n",
    "y_pred = gnb.predict(vector3)\n",
    "\n",
    "target_names = list(OrderedDict.fromkeys(yTest))\n",
    "\n",
    "cnf_matrix = confusion_matrix(yTest, y_pred)\n",
    "\n",
    "plt.figure()\n",
    "plot_confusion_matrix(cnf_matrix, classes=target_names, normalize=True,\n",
    "                      title='Matriz de confusao')\n",
    "\n",
    "plt.show()"
   ]
  },
  {
   "cell_type": "code",
   "execution_count": null,
   "metadata": {},
   "outputs": [],
   "source": []
  }
 ],
 "metadata": {
  "kernelspec": {
   "display_name": "Python 2",
   "language": "python",
   "name": "python2"
  },
  "language_info": {
   "codemirror_mode": {
    "name": "ipython",
    "version": 2
   },
   "file_extension": ".py",
   "mimetype": "text/x-python",
   "name": "python",
   "nbconvert_exporter": "python",
   "pygments_lexer": "ipython2",
   "version": "2.7.14"
  }
 },
 "nbformat": 4,
 "nbformat_minor": 2
}
